{
 "cells": [
  {
   "cell_type": "markdown",
   "metadata": {},
   "source": [
    "### Analyze.wavelet R\n",
    "\n",
    "Python based implementation of the anaylize.wavelet function available on the [WaveletComp R](https://cran.r-project.org/web/packages/WaveletComp/) package developed by *Angi Roesch* &lt;angi@angi-stat.com&gt; and *Harald Schmidbauer* &lt;harald@hs-stat.com&gt;&lt;/harald@hs-stat.com&gt;&lt;/angi@angi-stat.com&gt;"
   ]
  },
  {
   "cell_type": "markdown",
   "metadata": {},
   "source": [
    "#### Dependencies\n",
    "\n",
    "Implementation is based on [**NumPy**](https://www.numpy.org/) library for numerical calculations."
   ]
  },
  {
   "cell_type": "code",
   "execution_count": null,
   "metadata": {},
   "outputs": [],
   "source": [
    "import sys\n",
    "import os\n",
    "import numpy as np\n",
    "import matplotlib.pyplot as plt\n",
    "import matplotlib.patches as mpatches\n",
    "import pandas as pd\n",
    "\n",
    "from numpy.fft import fft, ifft\n",
    "from skmisc.loess import loess\n",
    "\n",
    "# Print all values of NumPy arrays. Debugging purposes \n",
    "np.set_printoptions(threshold=sys.maxsize)\n",
    "\n",
    "# Print all output of a cell, not only the latest value\n",
    "#from IPython.core.interactiveshell import InteractiveShell\n",
    "#InteractiveShell.ast_node_interactivity = \"all\"\n",
    "\n",
    "pd.option_context('display.max_rows', None, 'display.max_columns', None)"
   ]
  },
  {
   "cell_type": "markdown",
   "metadata": {},
   "source": [
    "#### Input dataset\n",
    "\n",
    "Initial time series processed based on the traffic flow of a video streaming service, Youtube."
   ]
  },
  {
   "cell_type": "code",
   "execution_count": null,
   "metadata": {
    "scrolled": false
   },
   "outputs": [],
   "source": [
    "# Import time saries dataset for specific service previously exported as Numpy array\n",
    "my_Data = np.load('dummy.npy')\n",
    "\n",
    "# X-axis with a range between 0 and 2016 samples taken every 5 minutes.\n",
    "x = np.array(list(range(0, my_Data.shape[0])))\n",
    "# Y-axis the number of bytes transferred by this type of service (both uploaded and downloaded)\n",
    "y = my_Data\n",
    "\n",
    "# Preview the dataset \n",
    "fig = plt.figure(figsize=(10,5))\n",
    "ax = fig.add_subplot(211)\n",
    "plt.tight_layout()\n",
    "plt.plot(x,y, 'r')"
   ]
  },
  {
   "cell_type": "markdown",
   "metadata": {},
   "source": [
    "#### Parameters section\n",
    "\n",
    "Default values for function parameters, modify them as required."
   ]
  },
  {
   "cell_type": "code",
   "execution_count": null,
   "metadata": {},
   "outputs": [],
   "source": [
    "# Smoothing factor, as a fraction of the number of point\n",
    "# to take into account for the LOESS function. Range (0,1]\n",
    "# It controls the flexibility of the LOESS regression function. \n",
    "# Large values of the span produce the smoothest functions that\n",
    "# wiggle the least in response to fluctuations in the data. The \n",
    "# smaller span is, the closer the regression function will conform\n",
    "# to the data. Using too small a value of the smoothing parameter \n",
    "# is not desirable, however, since the regression function will \n",
    "# eventually start to capture the random error in the data\n",
    "loess_span = 0.75\n",
    "\n",
    "# Time resolution, i.e. sampling resolution on time domain, \n",
    "# 1/dt = number of intervals per time step. \n",
    "# Default: 1.\n",
    "# 24h * 60m / 5 min. sample = 288\n",
    "dt = 1\n",
    "\n",
    "# Frequency resolution, i.e. sampling resolution on frequency domain, \n",
    "# 1/dj = number of suboctaves (voices per octave). \n",
    "# Default: 1/20.\n",
    "dj = 1/20\n",
    "\n",
    "# Lower Fourier period (in time units) for wavelet decomposition. \n",
    "# Default: 2*dt.\n",
    "lower_period = 2 * dt  \n",
    "# Upper Fourier period (in time units) for wavelet decomposition. \n",
    "# Default: (floor of one third of time series length)*dt.\n",
    "upper_period = np.floor(y.size/3)*dt \n",
    "\n",
    "# Compute p-values\n",
    "make_pval = True\n",
    "# The method of generating surrogate time series\n",
    "method = \"white.noise\"\n",
    "# Number of simulations\n",
    "n_sim = 100\n",
    "\n",
    "params = None\n",
    "date_format = None \n",
    "date_tz = None\n",
    "verbose = True "
   ]
  },
  {
   "cell_type": "markdown",
   "metadata": {},
   "source": [
    "### Auxiliary functions"
   ]
  },
  {
   "cell_type": "markdown",
   "metadata": {},
   "source": [
    "**surrogateData**: implemented only the default value available on analyze.wavelet, *white noise*."
   ]
  },
  {
   "cell_type": "code",
   "execution_count": null,
   "metadata": {},
   "outputs": [],
   "source": [
    "def surrogate_data(x, method = \"white.noise\") :\n",
    "\n",
    "    if method != \"white.noise\": \n",
    "        raise NotImplementedError\n",
    "        \n",
    "    x_sur = np.random.normal(size = x.shape[0]) \n",
    "  \n",
    "    return x_sur"
   ]
  },
  {
   "cell_type": "markdown",
   "metadata": {},
   "source": [
    "**loess_data_frame**: smooth the series applying a Local Polynomial Regression Fitting if the value of the span is different from zero based on *W. S. Cleveland, E. Grosse and W. M. Shyu (1992) Local regression models. Chapter 8 of Statistical Models in S eds J.M. Chambers and T.J. Hastie, Wadsworth &amp; Brooks/Cole.*"
   ]
  },
  {
   "cell_type": "code",
   "execution_count": null,
   "metadata": {},
   "outputs": [],
   "source": [
    "def loess_data_frame(x, y, loess_span):\n",
    "    \n",
    "    my_loess_y = loess(x , y,  span = loess_span)\n",
    "    my_loess_y.fit()\n",
    "    y_smoothed = my_loess_y.predict(x)\n",
    "\n",
    "    return y_smoothed"
   ]
  },
  {
   "cell_type": "markdown",
   "metadata": {},
   "source": [
    "### 1. Implementation of the smoothing process\n",
    "\n",
    "The first step is apply the smoothing over our series if requested. By default, a span of 0.75 is applied.\n",
    "\n",
    "\n",
    "<span style=\"color: green;\">**Results for the next block of code have been verified with original function**</span>"
   ]
  },
  {
   "cell_type": "code",
   "execution_count": null,
   "metadata": {},
   "outputs": [],
   "source": [
    "if loess_span != 0 :\n",
    "    y_trend = loess_data_frame(x, y, loess_span)\n",
    "    y_detrended = y - y_trend.values\n",
    "    y_stacked = np.stack((y_detrended, y_trend.values))\n",
    "    "
   ]
  },
  {
   "cell_type": "markdown",
   "metadata": {},
   "source": [
    "Let's compare the smoothing process over our series versus the original one"
   ]
  },
  {
   "cell_type": "code",
   "execution_count": null,
   "metadata": {
    "scrolled": true
   },
   "outputs": [],
   "source": [
    "fig = plt.figure(figsize=(10,8))\n",
    "ax = fig.add_subplot(311)\n",
    "ax.set_xticks(range(0, 2016, 288))\n",
    "plt.tight_layout()\n",
    "plt.plot(x,y, 'r')\n",
    "\n",
    "ax = fig.add_subplot(312)\n",
    "plt.tight_layout()\n",
    "plt.plot(x,y_trend.values, 'b')\n",
    "\n",
    "ax = fig.add_subplot(313)\n",
    "ax.set_xticks(range(0, 2016, 288))\n",
    "plt.tight_layout()\n",
    "plt.plot(x, y_detrended, 'b')"
   ]
  },
  {
   "cell_type": "markdown",
   "metadata": {},
   "source": [
    "### 2. Application of the Wavelet transformation\n"
   ]
  },
  {
   "cell_type": "markdown",
   "metadata": {},
   "source": [
    "The function implements a single Continuos Wavelet Transformation applying the Morlet wavelet."
   ]
  },
  {
   "cell_type": "code",
   "execution_count": null,
   "metadata": {},
   "outputs": [],
   "source": [
    "def waveletTransform(y, dt, dj, lowerPeriod, upperPeriod) :\n",
    "    series_length = y.shape[0]\n",
    "    pot2 = np.trunc(np.log2(series_length) + 0.5)\n",
    "    pad_length = np.power(2, (pot2 + 1))- series_length\n",
    "\n",
    "    # Define central angular frequency omega0 and fourier factor:\n",
    "    omega0 = 6\n",
    "    fourier_factor = (2 * np.pi) / omega0\n",
    "  \n",
    "    # Compute scales and periods \n",
    "    min_scale = lower_period / fourier_factor   \n",
    "    max_scale = upper_period / fourier_factor   \n",
    "\n",
    "    J = int(np.log2(max_scale/min_scale) / dj)  \n",
    "    \n",
    "    scales = min_scale * np.power(2,np.array([i*dj for i in list(range(J+1))]))        \n",
    "    scales_length = scales.shape[0]            \n",
    "    periods = fourier_factor * scales          \n",
    "    \n",
    "    N = series_length + pad_length\n",
    "    omega_k_direct = np.array(list(range(1,int(np.floor(N/2)+1))))\n",
    "    omega_k_direct = omega_k_direct * (2 * np.pi)/(N*dt)                    # k <= N/2\n",
    "    omega_k_reversed = -omega_k_direct[-2::-1]\n",
    "\n",
    "    omega_k = np.append( [0], omega_k_direct)\n",
    "    omega_k = np.append( omega_k, omega_k_reversed)\n",
    "    \n",
    "    # Standardize x and pad with zeros\n",
    "    y_standard = (y_stacked[0] - int(np.mean(y_stacked[0]))) / int(np.round(np.std(y_stacked[0], ddof=1)))\n",
    "    ypad = np.append(y_standard, np.zeros(int(pad_length)) )\n",
    "\n",
    "    # Compute Fast Fourier Transform of xpad\n",
    "    fft_ypad = fft(ypad)\n",
    "\n",
    "    # Compute wavelet transform of x \n",
    "    # Prepare a complex matrix which accomodates the wavelet transform\n",
    "    wave = np.zeros((int(scales_length),int(N)), dtype = complex)                 \n",
    "    wave = wave + 1j*wave    \n",
    "\n",
    "    # Computation for each scale...\n",
    "    # ... simultaneously for all time instances\n",
    "    for ind_scale in list(range(0, scales_length)) : \n",
    "    \n",
    "        my_scale = scales[ind_scale]\n",
    "      \n",
    "        norm_factor = np.power(np.pi,(1/4)) * np.sqrt(2 * my_scale / dt)\n",
    "        expnt       = -( np.power((my_scale * omega_k - omega0), 2) / 2 ) * (omega_k > 0)\n",
    "        daughter    = norm_factor * np.exp(expnt)\n",
    "        daughter    = daughter * (omega_k > 0)\n",
    "         \n",
    "        wave[ind_scale,] = ifft(fft_ypad * daughter) \n",
    "\n",
    "    # Cut out the wavelet transform\n",
    "    wave = wave[ :, :series_length]\n",
    "    \n",
    "    # Compute wavelet power\n",
    "    power = np.power(np.abs(wave),2) / np.reshape(np.tile(scales, series_length), (168,2016), order='F')\n",
    "\n",
    "    # Phase  \n",
    "    phase = np.angle(wave)\n",
    "\n",
    "    # Amplitude\n",
    "    ampl  = np.abs(wave) / np.reshape(np.tile(np.sqrt(scales), series_length), (168,2016), order='F')\n",
    "    \n",
    "    return wave, phase, ampl, periods, scales, power, series_length, scales_length\n",
    "\n",
    "\n",
    "wave, phase, ampl, period, scales, power, nc, nr = waveletTransform(y_detrended, dt = dt, dj = dj, \n",
    "                        lowerPeriod = lower_period, upperPeriod = upper_period)"
   ]
  },
  {
   "cell_type": "markdown",
   "metadata": {},
   "source": [
    "### 3. Computing the cone of influence COI"
   ]
  },
  {
   "cell_type": "code",
   "execution_count": null,
   "metadata": {},
   "outputs": [],
   "source": [
    "from collections import namedtuple\n",
    "\n",
    "COI_t = namedtuple(\"COI\", [\"x\", \"y\", \"axis_1\", \"axis_2\"])\n",
    "start = 1\n",
    "\n",
    "def COI(start, dt, nc, nr, Period) :\n",
    "\n",
    "    axis_1 = list(range(start, nc+1, dt))\n",
    "    axis_2 = np.log2(Period)\n",
    "  \n",
    "    # Define central angular frequency omega0 and fourier factor:\n",
    "    omega0 = 5.0  \n",
    "    fourier_factor = (2 * np.pi) / omega0\n",
    "\n",
    "    reverse_list = list(range(1, int((nc+1)/2-1)))\n",
    "    reverse_list.reverse()\n",
    "\n",
    "    coi = fourier_factor * np.sqrt(2) * dt * np.r_[1E-5, 1:int((nc+1)/2-1), reverse_list, 1E-5 ]\n",
    "    coi_x = np.r_[axis_1[0]-dt*0.5, axis_1[0]-dt*0.5, axis_1, axis_1[nc-1]+dt*0.5,axis_1[nc-1]+dt*0.5  ]\n",
    "\n",
    "    logyint = axis_2[2] - axis_2[1]\n",
    "    yl = np.r_[np.log2(Period[nr-1]) + 0.5 * logyint, np.log2(Period[0]) - 0.5 * logyint]\n",
    "    yr = np.flipud(yl)\n",
    "    coi_y = np.r_[yl, np.log2(coi), yr]\n",
    "    \n",
    "    return COI_t(x = coi_x, y = coi_y, axis_1 = axis_1, axis_2 = axis_2 )\n",
    "\n",
    "coi_x, coi_y, axis_1, axis_2 = COI(start = start, dt = dt, nc = nc, nr = nr, Period = period)"
   ]
  },
  {
   "cell_type": "markdown",
   "metadata": {},
   "source": [
    "### 4. Computing the power ridge"
   ]
  },
  {
   "cell_type": "code",
   "execution_count": null,
   "metadata": {},
   "outputs": [],
   "source": [
    "def ridge_column(column_vec, band):\n",
    "    nrows = len(column_vec)\n",
    "    ind = np.array(list(range(1, nrows+1)))\n",
    "    band_max_vec = column_vec\n",
    "\n",
    "    for i in range(1, band+1) :\n",
    "\n",
    "        lower_ind = ind - i\n",
    "        lower_ind[lower_ind < 1] = 1\n",
    "        upper_ind = ind + i\n",
    "        upper_ind[upper_ind > nrows] = nrows\n",
    "        band_max_vec = np.maximum(np.maximum(band_max_vec, column_vec[lower_ind-1]), column_vec[upper_ind-1])\n",
    "\n",
    "    my_ridge_column = np.zeros(nrows)\n",
    "    my_ridge_column[np.maximum(band_max_vec, my_ridge_column) == column_vec] = 1\n",
    "    return my_ridge_column\n",
    "\n",
    "def Ridge(wavelet_spectrum, band = 5, scale_factor = 0.1):\n",
    "    min_level = scale_factor * np.max(wavelet_spectrum)\n",
    "    \n",
    "    Ridge_in = np.apply_along_axis(ridge_column, 0, wavelet_spectrum, band = band)\n",
    "\n",
    "    Ridge_in = Ridge_in * (wavelet_spectrum > min_level)\n",
    "\n",
    "    return Ridge_in\n",
    "\n",
    "rid = Ridge(power, scale_factor = 0.05)"
   ]
  },
  {
   "cell_type": "markdown",
   "metadata": {},
   "source": [
    "### 5. Generating the output\n"
   ]
  },
  {
   "cell_type": "code",
   "execution_count": null,
   "metadata": {},
   "outputs": [],
   "source": [
    "data = power\n",
    "\n",
    "fig = plt.figure()\n",
    "ax = fig.add_subplot(111)\n",
    "\n",
    "x, y = np.meshgrid(\n",
    "    axis_1,\n",
    "    axis_2)\n",
    "\n",
    "ax.pcolormesh(x,y, data, cmap=plt.get_cmap(\"Greys\"))\n",
    "ax.set_xticks(range(0, 2016, 288))\n",
    "CS = ax.contour(x,y, rid, colors=['red'], linewidths = 1.5 )\n",
    "\n",
    "plt.show()"
   ]
  },
  {
   "cell_type": "code",
   "execution_count": null,
   "metadata": {},
   "outputs": [],
   "source": [
    "data = power\n",
    "\n",
    "fig = plt.figure(figsize=(13,4))\n",
    "ax = fig.add_subplot(131)\n",
    "\n",
    "x, y = np.meshgrid(\n",
    "    axis_1,\n",
    "    axis_2)\n",
    "\n",
    "ax.pcolormesh(x,y, power, cmap=plt.get_cmap(\"viridis\"))\n",
    "ax.set_yticklabels(np.power(2,np.unique(np.trunc(axis_2))))\n",
    "\n",
    "\n",
    "ax = fig.add_subplot(132)\n",
    "ax.pcolormesh(x,y, ampl, cmap=plt.get_cmap(\"viridis\"))\n",
    "ax.set_yticklabels(np.power(2,np.unique(np.trunc(axis_2))))\n",
    "\n",
    "ax = fig.add_subplot(133)\n",
    "ax.pcolormesh(x,y, phase, cmap=plt.get_cmap(\"viridis\"))\n",
    "ax.set_yticklabels(np.power(2,np.unique(np.trunc(axis_2))))\n",
    "\n",
    "plt.tight_layout()\n",
    "plt.show()\n"
   ]
  }
 ],
 "metadata": {
  "kernelspec": {
   "display_name": "Python 3",
   "language": "python",
   "name": "python3"
  },
  "language_info": {
   "codemirror_mode": {
    "name": "ipython",
    "version": 3
   },
   "file_extension": ".py",
   "mimetype": "text/x-python",
   "name": "python",
   "nbconvert_exporter": "python",
   "pygments_lexer": "ipython3",
   "version": "3.5.4"
  }
 },
 "nbformat": 4,
 "nbformat_minor": 2
}
